{
 "cells": [
  {
   "cell_type": "markdown",
   "metadata": {},
   "source": [
    "<font color='#10C2AF'><h1>Functions and Python Logic - Session 3</h1> </font>\n",
    "<font color='purple'>**Last Updated: 10 May 2021**</font> "
   ]
  },
  {
   "cell_type": "code",
   "execution_count": 44,
   "metadata": {},
   "outputs": [],
   "source": [
    "# Is the number prime?\n",
    "\n",
    "def prime(num):\n",
    "    result = str(num) + \" is prime\"\n",
    "\n",
    "    for i in range(2, num // 2 + 1):\n",
    "        if (num % i == 0 or num == 1 or num == 0):\n",
    "            result = str(num) + \" is not prime\"\n",
    "    return result"
   ]
  },
  {
   "cell_type": "code",
   "execution_count": 47,
   "metadata": {},
   "outputs": [
    {
     "name": "stdin",
     "output_type": "stream",
     "text": [
      "Enter a number:  5\n"
     ]
    },
    {
     "data": {
      "text/plain": [
       "'5 is prime'"
      ]
     },
     "execution_count": 47,
     "metadata": {},
     "output_type": "execute_result"
    }
   ],
   "source": [
    "num = int(input(\"Enter a number: \"))\n",
    "prime(num)"
   ]
  },
  {
   "cell_type": "code",
   "execution_count": 48,
   "metadata": {},
   "outputs": [
    {
     "data": {
      "text/plain": [
       "[1, 2, 3, 4, 6, 8, 12, 24]"
      ]
     },
     "execution_count": 48,
     "metadata": {},
     "output_type": "execute_result"
    }
   ],
   "source": [
    "# Print factors of a number\n",
    "\n",
    "def factors(num):\n",
    "    list1 = []\n",
    "\n",
    "    for i in range(1, num // 2 + 1):\n",
    "        if (num % i == 0):\n",
    "            list1.append(i)\n",
    "    list1.append(num)\n",
    "    return list1\n",
    "factors(24)"
   ]
  },
  {
   "cell_type": "code",
   "execution_count": 49,
   "metadata": {},
   "outputs": [
    {
     "name": "stdout",
     "output_type": "stream",
     "text": [
      "0 : b\n",
      "1 : o\n",
      "2 : b\n"
     ]
    }
   ],
   "source": [
    "# Print each letter and it’s index from string\n",
    "\n",
    "def indstring(str1):\n",
    "    for i in range (0, len(str1)):\n",
    "        print(i, \":\", str1[i])\n",
    "indstring(\"bob\")"
   ]
  },
  {
   "cell_type": "code",
   "execution_count": 50,
   "metadata": {},
   "outputs": [
    {
     "name": "stdout",
     "output_type": "stream",
     "text": [
      "It's even\n"
     ]
    }
   ],
   "source": [
    "# Odd/even?\n",
    "\n",
    "def oddeven(num):\n",
    "    if (num % 2 == 0):\n",
    "        print(\"It's even\")\n",
    "    else:\n",
    "        print(\"It's odd\")\n",
    "    \n",
    "oddeven(0)"
   ]
  },
  {
   "cell_type": "code",
   "execution_count": 51,
   "metadata": {},
   "outputs": [
    {
     "name": "stdout",
     "output_type": "stream",
     "text": [
      "18\n"
     ]
    }
   ],
   "source": [
    "# Length of string without using the len function\n",
    "\n",
    "def length(str1):\n",
    "    length1 = 0\n",
    "    for i in str1:\n",
    "        length1 += 1\n",
    "    print(length1)\n",
    "length(\"insertlongwordhere\")"
   ]
  },
  {
   "cell_type": "code",
   "execution_count": 52,
   "metadata": {},
   "outputs": [
    {
     "name": "stdout",
     "output_type": "stream",
     "text": [
      "3\n"
     ]
    }
   ],
   "source": [
    "# Look for recurrences of a letter in a string\n",
    "\n",
    "def similar(str1):\n",
    "    str2 = \"salmon is a weird type of fish\"\n",
    "    count = 0\n",
    "    for i in str2:\n",
    "        if (i == str1):\n",
    "            count += 1\n",
    "            \n",
    "    print(count)\n",
    "    \n",
    "similar(\"s\")"
   ]
  }
 ],
 "metadata": {
  "kernelspec": {
   "display_name": "Python 3",
   "language": "python",
   "name": "python3"
  },
  "language_info": {
   "codemirror_mode": {
    "name": "ipython",
    "version": 3
   },
   "file_extension": ".py",
   "mimetype": "text/x-python",
   "name": "python",
   "nbconvert_exporter": "python",
   "pygments_lexer": "ipython3",
   "version": "3.7.6"
  }
 },
 "nbformat": 4,
 "nbformat_minor": 4
}
